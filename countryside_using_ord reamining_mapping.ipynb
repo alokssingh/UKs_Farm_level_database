{
 "cells": [
  {
   "cell_type": "code",
   "execution_count": 1,
   "metadata": {},
   "outputs": [],
   "source": [
    "import geopandas as gpd\n",
    "import shapely.geometry\n",
    "from shapely import wkt\n",
    "import pandas as pd\n",
    "import ast\n",
    "from shapely.ops import unary_union\n",
    "from shapely.geometry import MultiPolygon, Polygon\n",
    "from shapely.validation import make_valid"
   ]
  },
  {
   "cell_type": "code",
   "execution_count": null,
   "metadata": {},
   "outputs": [],
   "source": [
    "country_side_data = pd.read_csv(\"/Users/smit0225/Documents/Oxford/Agriculture/Land_Registry/filtered_fields/new_defra_data/final_database/LR_country_Side_common_ids/LR_and_country_side_Data_for_analysis.csv\")\n",
    "country_side_data['geometry'] = country_side_data['geometry'].apply(wkt.loads)\n",
    "country_side_data = gpd.GeoDataFrame(country_side_data)\n",
    "country_side_data = country_side_data.set_crs(27700, allow_override=True)\n",
    "country_side_data"
   ]
  },
  {
   "cell_type": "code",
   "execution_count": null,
   "metadata": {},
   "outputs": [],
   "source": [
    "country_owner = country_owner[[  'ORG_NAME', \n",
    "       'CSREF', 'SUM_GIS_HA','calculated', 'Area_hc_st', 'crop_maxA','Area(hec)', 'geometry']]\n",
    "\n",
    "country_owner"
   ]
  },
  {
   "cell_type": "code",
   "execution_count": null,
   "metadata": {},
   "outputs": [],
   "source": [
    "ord_data = gpd.read_file(\"/Users/smit0225/Documents/Oxford/Agriculture/Land_Registry/filtered_fields/OSMM_england/Ord_fields_only_england_final.shp\")\n",
    "ord_data = ord_data[['primary_ke', 'fid', \n",
    "        'calculated',  'Area(hec)', 'geometry']]\n",
    "ord_data"
   ]
  },
  {
   "cell_type": "code",
   "execution_count": null,
   "metadata": {},
   "outputs": [],
   "source": [
    "a = gpd.sjoin(ord_data,country_owner, predicate='intersects')\n",
    "a = a.reset_index(drop=True)\n",
    "\n",
    "\n",
    "geo_idx = 0\n",
    "for idx, col_n in enumerate(a.columns):\n",
    "    if col_n=='geometry':\n",
    "        geo_idx = idx\n",
    "# Apply this to the geometries that might be invalid\n",
    "a['geometry'] = a['geometry'].apply(lambda geom: make_valid(geom) if not geom.is_valid else geom)\n",
    "country_owner['geometry'] = country_owner['geometry'].apply(lambda geom: make_valid(geom) if not geom.is_valid else geom)\n",
    "\n",
    "a['L_O_area_prc'] = a.apply(lambda row: (row[geo_idx].intersection(country_owner.iloc[row[geo_idx+1]].geometry).area / row[geo_idx].area) * 100, axis=1)\n",
    "a = a.reset_index(drop=True)\n",
    "idx = a.groupby('fid')['L_O_area_prc'].idxmax()\n",
    "final_data = a.loc[idx]\n",
    "final_data = final_data.reset_index(drop=True)\n",
    "final_data"
   ]
  },
  {
   "cell_type": "code",
   "execution_count": null,
   "metadata": {},
   "outputs": [],
   "source": [
    "final_data['L_O_area_olap'] = (final_data['L_O_area_prc'] *final_data['Area(hec)'] )/100\n",
    "final_data"
   ]
  },
  {
   "cell_type": "code",
   "execution_count": null,
   "metadata": {},
   "outputs": [],
   "source": [
    "\n",
    "condition = (final_data['L_O_area_olap'] > 0.05) & (final_data['L_O_area_prc'] >= 10)\n",
    "\n",
    "final_data = final_data[condition]\n",
    "final_data"
   ]
  },
  {
   "cell_type": "code",
   "execution_count": null,
   "metadata": {},
   "outputs": [],
   "source": [
    "final_data.to_file(\"./clean_CS_Ord/CS_ORD_clean.shp\")"
   ]
  }
 ],
 "metadata": {
  "kernelspec": {
   "display_name": "Python 3",
   "language": "python",
   "name": "python3"
  },
  "language_info": {
   "codemirror_mode": {
    "name": "ipython",
    "version": 3
   },
   "file_extension": ".py",
   "mimetype": "text/x-python",
   "name": "python",
   "nbconvert_exporter": "python",
   "pygments_lexer": "ipython3",
   "version": "3.9.6"
  }
 },
 "nbformat": 4,
 "nbformat_minor": 2
}
