{
 "cells": [
  {
   "cell_type": "code",
   "execution_count": null,
   "metadata": {},
   "outputs": [],
   "source": [
    "data_owner1 = pd.read_csv('/Users/smit0225/Documents/Oxford/Agriculture/Land_Registry/filtered_fields/new_defra_data/LR/data/CCOD_FULL_2024_09.csv')#UK companies that own property in England and Wales\n",
    "data_owner2 = pd.read_csv('/Users/smit0225/Documents/Oxford/Agriculture/Land_Registry/filtered_fields/new_defra_data/LR/data/OCOD_FULL_2024_09.csv')#Overseas companies that own property in England and Wale\n",
    "common_keys = set(data_owner1['Title Number']).intersection(set(data_owner2['Title Number']))\n",
    "common_keys = list(common_keys)\n",
    "data_owner2 = data_owner2[~data_owner2['Title Number'].isin(common_keys)]"
   ]
  },
  {
   "cell_type": "code",
   "execution_count": null,
   "metadata": {},
   "outputs": [],
   "source": [
    "data_together = pd.DataFrame()\n",
    "data_together = pd.concat([data_together,data_owner1,data_owner2])\n",
    "data_together = data_together.reset_index(drop=True)\n",
    "data_together"
   ]
  },
  {
   "cell_type": "code",
   "execution_count": null,
   "metadata": {},
   "outputs": [],
   "source": [
    "Clean_LR_Data = gpd.read_file(\"/Users/smit0225/Documents/Oxford/Agriculture/Land_Registry/filtered_fields/***.shp\")\n",
    "Clean_LR_Data"
   ]
  },
  {
   "cell_type": "code",
   "execution_count": null,
   "metadata": {},
   "outputs": [],
   "source": [
    "Clean_LR_Data = Clean_LR_Data.rename(columns={\"TITLE_NO\":\"Title Number\"})\n",
    "result = pd.merge(Clean_LR_Data, data_together, on='Title Number', how='left')"
   ]
  },
  {
   "cell_type": "code",
   "execution_count": null,
   "metadata": {},
   "outputs": [],
   "source": [
    "result = result[['primary_ke', 'fid', 'Owner Name', 'POLY_ID',\n",
    "       'Title Number',  'Tenure',\n",
    "       'Property Address', 'District', 'County', 'Region', 'Postcode',\n",
    "       'Multiple Address Indicator', 'Price Paid', \n",
    "       'Company Registration No. (1)', 'Proprietorship Category (1)',\n",
    "       'Proprietor (1) Address (1)', 'Proprietor (1) Address (2)',\n",
    "       'Proprietor (1) Address (3)', 'Proprietor Name (2)',\n",
    "       'Company Registration No. (2)', 'Proprietorship Category (2)',\n",
    "       'Proprietor (2) Address (1)', 'Proprietor (2) Address (2)',\n",
    "       'Proprietor (2) Address (3)', 'Proprietor Name (3)',\n",
    "       'Company Registration No. (3)', 'Proprietorship Category (3)', 'calculated', 'Area(hec)',\n",
    "       'L_O_area_p', 'L_O_area_o', 'geometry',\n",
    "       ]]"
   ]
  },
  {
   "cell_type": "code",
   "execution_count": null,
   "metadata": {},
   "outputs": [],
   "source": [
    "with_owner = result[result['Owner Name'].notna()]#['Area(hec)'].sum()\n",
    "with_owner = with_owner.reset_index(drop=True)\n",
    "without_owner = result[~result['Owner Name'].notna()]#['Area(hec)'].sum()\n",
    "without_owner = without_owner.reset_index(drop=True)"
   ]
  },
  {
   "cell_type": "code",
   "execution_count": null,
   "metadata": {},
   "outputs": [],
   "source": [
    "without_owner = gpd.GeoDataFrame(without_owner)\n",
    "without_owner = without_owner.set_crs(\"EPSG:27700\")\n",
    "without_owner.to_csv(\"./clean_LR_Ord/with_owner_name/all_together_without_owner_lR_ord_5_4M.csv\")"
   ]
  },
  {
   "cell_type": "code",
   "execution_count": null,
   "metadata": {},
   "outputs": [],
   "source": [
    "with_owner = gpd.GeoDataFrame(without_owner)\n",
    "with_owner = without_owner.set_crs(\"EPSG:27700\")\n",
    "with_owner.to_csv(\"./clean_LR_Ord/with_owner_name/all_together_with_owner_lR_ord.csv\")"
   ]
  }
 ],
 "metadata": {
  "language_info": {
   "name": "python"
  }
 },
 "nbformat": 4,
 "nbformat_minor": 2
}
